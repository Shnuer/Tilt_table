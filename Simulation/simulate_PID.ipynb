{
 "cells": [
  {
   "cell_type": "code",
   "execution_count": 3,
   "metadata": {},
   "outputs": [],
   "source": [
    "import pybullet as p\n",
    "import time\n",
    "import math\n",
    "\n",
    "import matplotlib as mpl \n",
    "import matplotlib.pyplot as plt \n",
    "mpl.use('TkAgg')\n",
    "\n",
    "import numpy as np\n",
    "\n",
    "from objects import BallOnPlate\n",
    "\n",
    "ballOnPlate = BallOnPlate(showGUI=False)\n",
    "\n",
    "ref_alpha_vals = []\n",
    "ref_beta_vals  = []\n",
    "alpha_vals     = []\n",
    "beta_vals      = []\n",
    "t_vals         = []\n",
    "\n",
    "x_vals         = []\n",
    "y_vals         = []\n",
    "\n",
    "r_x_vals         = []\n",
    "r_y_vals         = []\n",
    "\n",
    "prev_err = [0, 0]\n",
    "integr_err = 0\n",
    "\n",
    "ref_point = np.array([.7, .0])\n",
    "posOnPlate = ballOnPlate.reset()\n",
    "\n",
    "pid_rates = [0.8314504111768981, 1.1925901500923737, 0.016085473303319286]\n",
    "\n",
    "while ballOnPlate.time < 10:\n",
    "\n",
    "    start_time = time.time()\n",
    "\n",
    "    t = ballOnPlate.time\n",
    "    # ref_point = np.array([.5*math.cos(t), .5*math.sin(t)])\n",
    "\n",
    "    err = ref_point - posOnPlate\n",
    "    integr_err += err\n",
    "    d_err = err - prev_err\n",
    "\n",
    "    prev_err = err\n",
    "\n",
    "    control = ballOnPlate.control_get_PID(\n",
    "        pid_rates,\n",
    "        {\n",
    "            'error': err,\n",
    "            'error_diff': d_err,\n",
    "            'error_integr': integr_err\n",
    "        }\n",
    "    )\n",
    "\n",
    "    # # For plotting\n",
    "    # js1 = p.getJointState(bodyUniqueId=plateId, jointIndex=0)\n",
    "    # js2 = p.getJointState(bodyUniqueId=plateId, jointIndex=1)\n",
    "    \n",
    "    t_vals += [t]\n",
    "    # alpha_vals += [js1[0]*180/math.pi]\n",
    "    # beta_vals += [js2[0]*180/math.pi]\n",
    "    # ref_alpha_vals += [target_alpha]\n",
    "    # ref_beta_vals += [target_beta]\n",
    "\n",
    "    posOnPlate, isEnd = ballOnPlate.step(control)\n",
    "    if isEnd:\n",
    "        break\n",
    "\n",
    "\n",
    "\n",
    "\n",
    "    x_vals += [posOnPlate[0]]\n",
    "    y_vals += [posOnPlate[1]]\n",
    "\n",
    "    r_x_vals += [ref_point[0]]\n",
    "    r_y_vals += [ref_point[1]]\n",
    "\n",
    "\n",
    "    # key = p.getKeyboardEvents()\n",
    "    # if p.B3G_RIGHT_ARROW in key:\n",
    "    #     ref_point += [.001, 0, 0]\n",
    "    # if p.B3G_LEFT_ARROW in key:\n",
    "    #     ref_point -= [.001, 0, 0]\n",
    "    # if p.B3G_UP_ARROW in key:\n",
    "    #     ref_point += [0, .001, 0]\n",
    "    # if p.B3G_DOWN_ARROW in key:\n",
    "    #     ref_point -= [0, .001, 0]\n",
    "    # if p.B3G_CONTROL in key:\n",
    "        # posOnPlate, isEnd = ballOnPlate.step([0, 0])\n",
    "        # if isEnd:\n",
    "            # break\n",
    "    #     ref_point = np.array([0., 0, 0])\n",
    "\n",
    "\n",
    "\n",
    "    # if p.B3G_ALT in key or ballpos[2] < 0:\n",
    "    #     # plt.plot(t_vals, alpha_vals, color = 'blue', linestyle = 'solid')\n",
    "    #     # plt.plot(t_vals, beta_vals, color = 'red', linestyle = 'solid')\n",
    "\n",
    "#plt.plot(x_vals, y_vals, color='blue')\n",
    "#plt.plot(r_x_vals, r_y_vals, color='red')\n",
    "\n",
    "\n",
    "    #     exit(1)"
   ]
  },
  {
   "cell_type": "code",
   "execution_count": 5,
   "metadata": {},
   "outputs": [
    {
     "data": {
      "text/plain": [
       "<matplotlib.legend.Legend at 0x7fb2020e3320>"
      ]
     },
     "execution_count": 5,
     "metadata": {},
     "output_type": "execute_result"
    },
    {
     "data": {
      "image/png": "[encoded data removed]",
      "text/plain": [
       "<Figure size 432x288 with 1 Axes>"
      ]
     },
     "metadata": {
      "needs_background": "light"
     },
     "output_type": "display_data"
    }
   ],
   "source": [
    "%matplotlib inline\n",
    "\n",
    "plt.plot(t_vals, r_x_vals, color = 'blue', linestyle = 'dashed')\n",
    "plt.plot(t_vals, x_vals, color = 'red',)\n",
    "\n",
    "plt.xlabel('Time, s')\n",
    "plt.ylabel('X')\n",
    "plt.legend(['Reference', 'Response'])"
   ]
  },
  {
   "cell_type": "code",
   "execution_count": null,
   "metadata": {},
   "outputs": [],
   "source": []
  }
 ],
 "metadata": {
  "kernelspec": {
   "display_name": "Python 3",
   "language": "python",
   "name": "python3"
  },
  "language_info": {
   "codemirror_mode": {
    "name": "ipython",
    "version": 3
   },
   "file_extension": ".py",
   "mimetype": "text/x-python",
   "name": "python",
   "nbconvert_exporter": "python",
   "pygments_lexer": "ipython3",
   "version": "3.5.2"
  }
 },
 "nbformat": 4,
 "nbformat_minor": 2
}
